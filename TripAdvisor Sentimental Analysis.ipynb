{
 "cells": [
  {
   "cell_type": "code",
   "execution_count": 38,
   "id": "bc2de324",
   "metadata": {},
   "outputs": [],
   "source": [
    "import numpy as np\n",
    "import pandas as pd\n",
    "import matplotlib.pyplot as plt\n",
    "import seaborn as sns"
   ]
  },
  {
   "cell_type": "code",
   "execution_count": 2,
   "id": "693b4098",
   "metadata": {},
   "outputs": [],
   "source": [
    "data = pd.read_csv('tripadvisor.csv')"
   ]
  },
  {
   "cell_type": "code",
   "execution_count": 3,
   "id": "cbba2c25",
   "metadata": {},
   "outputs": [
    {
     "data": {
      "text/html": [
       "<div>\n",
       "<style scoped>\n",
       "    .dataframe tbody tr th:only-of-type {\n",
       "        vertical-align: middle;\n",
       "    }\n",
       "\n",
       "    .dataframe tbody tr th {\n",
       "        vertical-align: top;\n",
       "    }\n",
       "\n",
       "    .dataframe thead th {\n",
       "        text-align: right;\n",
       "    }\n",
       "</style>\n",
       "<table border=\"1\" class=\"dataframe\">\n",
       "  <thead>\n",
       "    <tr style=\"text-align: right;\">\n",
       "      <th></th>\n",
       "      <th>rating_review</th>\n",
       "      <th>review_full</th>\n",
       "    </tr>\n",
       "  </thead>\n",
       "  <tbody>\n",
       "    <tr>\n",
       "      <th>0</th>\n",
       "      <td>5</td>\n",
       "      <td>Totally in love with the Auro of the place, re...</td>\n",
       "    </tr>\n",
       "    <tr>\n",
       "      <th>1</th>\n",
       "      <td>5</td>\n",
       "      <td>I went this bar 8 days regularly with my husba...</td>\n",
       "    </tr>\n",
       "    <tr>\n",
       "      <th>2</th>\n",
       "      <td>5</td>\n",
       "      <td>We were few friends and was a birthday celebra...</td>\n",
       "    </tr>\n",
       "    <tr>\n",
       "      <th>3</th>\n",
       "      <td>5</td>\n",
       "      <td>Fatjar Cafe and Market is the perfect place fo...</td>\n",
       "    </tr>\n",
       "    <tr>\n",
       "      <th>4</th>\n",
       "      <td>5</td>\n",
       "      <td>Hey Guys, if you are craving for pizza and sea...</td>\n",
       "    </tr>\n",
       "  </tbody>\n",
       "</table>\n",
       "</div>"
      ],
      "text/plain": [
       "   rating_review                                        review_full\n",
       "0              5  Totally in love with the Auro of the place, re...\n",
       "1              5  I went this bar 8 days regularly with my husba...\n",
       "2              5  We were few friends and was a birthday celebra...\n",
       "3              5  Fatjar Cafe and Market is the perfect place fo...\n",
       "4              5  Hey Guys, if you are craving for pizza and sea..."
      ]
     },
     "execution_count": 3,
     "metadata": {},
     "output_type": "execute_result"
    }
   ],
   "source": [
    "#As noticed we have only 2 columns, that is the Rating review (0 to 5) and the review itself written\n",
    "data.head()"
   ]
  },
  {
   "cell_type": "code",
   "execution_count": 6,
   "id": "4a698f81",
   "metadata": {},
   "outputs": [
    {
     "data": {
      "text/plain": [
       "147581"
      ]
     },
     "execution_count": 6,
     "metadata": {},
     "output_type": "execute_result"
    }
   ],
   "source": [
    "len(data.index)\n",
    "#We have 147,581 Rows (reviews)"
   ]
  },
  {
   "cell_type": "code",
   "execution_count": 8,
   "id": "4885641a",
   "metadata": {},
   "outputs": [
    {
     "data": {
      "text/plain": [
       "rating_review    0\n",
       "review_full      2\n",
       "dtype: int64"
      ]
     },
     "execution_count": 8,
     "metadata": {},
     "output_type": "execute_result"
    }
   ],
   "source": [
    "#We have 2 Null values in the Reviews Column that we will remove\n",
    "data.isnull().sum()"
   ]
  },
  {
   "cell_type": "code",
   "execution_count": 10,
   "id": "06fbad1e",
   "metadata": {},
   "outputs": [],
   "source": [
    "#Here we drop the rows containing null values\n",
    "data = data.dropna()"
   ]
  },
  {
   "cell_type": "code",
   "execution_count": 11,
   "id": "d9e4b6f2",
   "metadata": {},
   "outputs": [
    {
     "data": {
      "text/plain": [
       "rating_review    0\n",
       "review_full      0\n",
       "dtype: int64"
      ]
     },
     "execution_count": 11,
     "metadata": {},
     "output_type": "execute_result"
    }
   ],
   "source": [
    "#To check the null values we are ready to go!\n",
    "data.isnull().sum()"
   ]
  },
  {
   "cell_type": "code",
   "execution_count": 12,
   "id": "2a988dc5",
   "metadata": {},
   "outputs": [],
   "source": [
    "#Creating a function to categorize the reviews\n",
    "#We have 0 to 5 scale reviews, where 0 and 1 is negative(-1), 4 and 5 is positive(1) and any other review is netural(0)\n",
    "def sentiment_analysis(review):\n",
    "    if review == 0 or review == 1: #for negative review\n",
    "        return -1 \n",
    "    elif review == 4 or review == 5: #for positive review\n",
    "        return 1\n",
    "    else: \n",
    "        return 0 #for neutral review\n",
    "data['Sentiment'] = data['rating_review'].apply(sentiment_analysis)"
   ]
  },
  {
   "cell_type": "code",
   "execution_count": 13,
   "id": "f9158bf6",
   "metadata": {},
   "outputs": [
    {
     "data": {
      "text/html": [
       "<div>\n",
       "<style scoped>\n",
       "    .dataframe tbody tr th:only-of-type {\n",
       "        vertical-align: middle;\n",
       "    }\n",
       "\n",
       "    .dataframe tbody tr th {\n",
       "        vertical-align: top;\n",
       "    }\n",
       "\n",
       "    .dataframe thead th {\n",
       "        text-align: right;\n",
       "    }\n",
       "</style>\n",
       "<table border=\"1\" class=\"dataframe\">\n",
       "  <thead>\n",
       "    <tr style=\"text-align: right;\">\n",
       "      <th></th>\n",
       "      <th>rating_review</th>\n",
       "      <th>review_full</th>\n",
       "      <th>Sentiment</th>\n",
       "    </tr>\n",
       "  </thead>\n",
       "  <tbody>\n",
       "    <tr>\n",
       "      <th>0</th>\n",
       "      <td>5</td>\n",
       "      <td>Totally in love with the Auro of the place, re...</td>\n",
       "      <td>1</td>\n",
       "    </tr>\n",
       "    <tr>\n",
       "      <th>1</th>\n",
       "      <td>5</td>\n",
       "      <td>I went this bar 8 days regularly with my husba...</td>\n",
       "      <td>1</td>\n",
       "    </tr>\n",
       "    <tr>\n",
       "      <th>2</th>\n",
       "      <td>5</td>\n",
       "      <td>We were few friends and was a birthday celebra...</td>\n",
       "      <td>1</td>\n",
       "    </tr>\n",
       "    <tr>\n",
       "      <th>3</th>\n",
       "      <td>5</td>\n",
       "      <td>Fatjar Cafe and Market is the perfect place fo...</td>\n",
       "      <td>1</td>\n",
       "    </tr>\n",
       "    <tr>\n",
       "      <th>4</th>\n",
       "      <td>5</td>\n",
       "      <td>Hey Guys, if you are craving for pizza and sea...</td>\n",
       "      <td>1</td>\n",
       "    </tr>\n",
       "  </tbody>\n",
       "</table>\n",
       "</div>"
      ],
      "text/plain": [
       "   rating_review                                        review_full  Sentiment\n",
       "0              5  Totally in love with the Auro of the place, re...          1\n",
       "1              5  I went this bar 8 days regularly with my husba...          1\n",
       "2              5  We were few friends and was a birthday celebra...          1\n",
       "3              5  Fatjar Cafe and Market is the perfect place fo...          1\n",
       "4              5  Hey Guys, if you are craving for pizza and sea...          1"
      ]
     },
     "execution_count": 13,
     "metadata": {},
     "output_type": "execute_result"
    }
   ],
   "source": [
    "#Here we can see that our new column \"Sentiment\" contains the Positive, Neutral or negative review in total\n",
    "#That Sentiment will be our Target for our model to predict\n",
    "data.head()"
   ]
  },
  {
   "cell_type": "code",
   "execution_count": 32,
   "id": "bcf87e9e",
   "metadata": {},
   "outputs": [
    {
     "data": {
      "text/plain": [
       "5    72389\n",
       "4    50248\n",
       "3    15935\n",
       "2     4552\n",
       "1     4455\n",
       "Name: rating_review, dtype: int64"
      ]
     },
     "execution_count": 32,
     "metadata": {},
     "output_type": "execute_result"
    }
   ],
   "source": [
    "#Plotting the reviews Count overall\n",
    "data['rating_review'].value_counts()"
   ]
  },
  {
   "cell_type": "code",
   "execution_count": 35,
   "id": "06921187",
   "metadata": {},
   "outputs": [
    {
     "data": {
      "image/png": "[encoded data removed]",
      "text/plain": [
       "<Figure size 432x288 with 1 Axes>"
      ]
     },
     "metadata": {
      "needs_background": "light"
     },
     "output_type": "display_data"
    },
    {
     "data": {
      "text/plain": [
       "<Figure size 432x288 with 0 Axes>"
      ]
     },
     "metadata": {},
     "output_type": "display_data"
    }
   ],
   "source": [
    "sns.countplot(x='rating_review', data=data, palette='hls')\n",
    "plt.show()\n",
    "plt.savefig('Counting Plot')"
   ]
  },
  {
   "cell_type": "code",
   "execution_count": 14,
   "id": "549ba31c",
   "metadata": {},
   "outputs": [],
   "source": [
    "#Now we can pre-process the reviews to remove the puncituation, special characters, digits and any noises\n",
    "from sklearn.feature_extraction.text import re\n",
    "\n",
    "def clean_review(review):\n",
    "    no_punc = re.sub(r'[^\\w\\s]', '', review)\n",
    "    no_digits = ''.join([i for i in no_punc if not i.isdigit()])\n",
    "    \n",
    "    return(no_digits)"
   ]
  },
  {
   "cell_type": "code",
   "execution_count": 16,
   "id": "28bb5dc5",
   "metadata": {},
   "outputs": [
    {
     "data": {
      "text/plain": [
       "\"Totally in love with the Auro of the place, really beautiful and quite fancy at the same time. The ambience is very pure and gives a sense of positivity throughout. Outdoor and indoor interior are quite quaint and cute. Love the open kitchen idea and there whole marketplace ideology. Due to coronovirus they specifically use disposable cutlery to keep the pandemic in mind taking all the precautionary measures from the beginning of the place with the mask on their staff and using good sanitisation. The food is really amazing specially the pizza straight from the oven and the hummus and pita bread are quite delicious too. If you're looking for a classy yet soothing Italian place in Delhi,Fatjar is a go to for you!\""
      ]
     },
     "execution_count": 16,
     "metadata": {},
     "output_type": "execute_result"
    }
   ],
   "source": [
    "#lookin at an example of the reviews we have you can see there is special characters, commas, punctuations\n",
    "#Applying our function clean_review will clean the text of noise in order to prepare our model\n",
    "data['review_full'][0]"
   ]
  },
  {
   "cell_type": "code",
   "execution_count": 17,
   "id": "53f43c3f",
   "metadata": {},
   "outputs": [
    {
     "data": {
      "text/plain": [
       "'Totally in love with the Auro of the place really beautiful and quite fancy at the same time The ambience is very pure and gives a sense of positivity throughout Outdoor and indoor interior are quite quaint and cute Love the open kitchen idea and there whole marketplace ideology Due to coronovirus they specifically use disposable cutlery to keep the pandemic in mind taking all the precautionary measures from the beginning of the place with the mask on their staff and using good sanitisation The food is really amazing specially the pizza straight from the oven and the hummus and pita bread are quite delicious too If youre looking for a classy yet soothing Italian place in DelhiFatjar is a go to for you'"
      ]
     },
     "execution_count": 17,
     "metadata": {},
     "output_type": "execute_result"
    }
   ],
   "source": [
    "#Here you can see the text is cleaned and ready to go to the model\n",
    "data['review_full'] = data['review_full'].apply(clean_review)\n",
    "data['review_full'][0]"
   ]
  },
  {
   "cell_type": "code",
   "execution_count": 18,
   "id": "7e090610",
   "metadata": {},
   "outputs": [],
   "source": [
    "#in order to create a model to process the texts, we need to transform the text into numeric form for the model to read them\n",
    "#So by using sklearn libraries we can apply TF-IDF Transformation to reach our goal\n",
    "#TF-IDF Algorithm basically do 2 things, \n",
    "#TF: first analyze the most repeated words with frequency count as they are important for the model\n",
    "#IDF: Here the model analyze the repeated words across a complete document in order to not give it importance like the naturally\n",
    "#Existed words as 'you' 'the' 'a' \n",
    "\n",
    "#So we clean the text and put it as our features in a numeric vector form\n",
    "\n",
    "from sklearn.feature_extraction.text import TfidfVectorizer\n",
    "\n",
    "tfidf = TfidfVectorizer(strip_accents=None, \n",
    "                        lowercase=False,\n",
    "                        preprocessor=None)\n",
    "\n",
    "X = tfidf.fit_transform(data['review_full'])"
   ]
  },
  {
   "cell_type": "code",
   "execution_count": 28,
   "id": "962b471e",
   "metadata": {},
   "outputs": [],
   "source": [
    "#creating our training and testing dataset\n",
    "from sklearn.model_selection import train_test_split\n",
    "\n",
    "y = data['Sentiment']\n",
    "X_train, X_test, y_train, y_test = train_test_split(X,y, random_state=100, test_size=0.25)\n",
    "#Making our Test Size 20% of the data and the training size 80%"
   ]
  },
  {
   "cell_type": "code",
   "execution_count": 29,
   "id": "672e4831",
   "metadata": {},
   "outputs": [],
   "source": [
    "#As it's a classifcation problem, we will use logistic regression classifier \n",
    "from sklearn.linear_model import LogisticRegression\n",
    "\n",
    "logistic_model = LogisticRegression(solver='liblinear') #using liblinear optimizer as our dataset is small and it's a one-versus-rest scheme\n",
    "logistic_model.fit(X_train,y_train) #Fitting the model to the train and test\n",
    "predictions = logistic_model.predict(X_test) #Making the predictions to test our model"
   ]
  },
  {
   "cell_type": "code",
   "execution_count": 30,
   "id": "567e7173",
   "metadata": {},
   "outputs": [
    {
     "data": {
      "text/plain": [
       "0.8916655373356823"
      ]
     },
     "execution_count": 30,
     "metadata": {},
     "output_type": "execute_result"
    }
   ],
   "source": [
    "#Testing our model and calculating the accuracy\n",
    "from sklearn.metrics import accuracy_score\n",
    "accuracy_score(predictions,y_test)\n",
    "\n",
    "#We have a nearly 90% Accuracy "
   ]
  }
 ],
 "metadata": {
  "kernelspec": {
   "display_name": "Python 3 (ipykernel)",
   "language": "python",
   "name": "python3"
  },
  "language_info": {
   "codemirror_mode": {
    "name": "ipython",
    "version": 3
   },
   "file_extension": ".py",
   "mimetype": "text/x-python",
   "name": "python",
   "nbconvert_exporter": "python",
   "pygments_lexer": "ipython3",
   "version": "3.9.7"
  }
 },
 "nbformat": 4,
 "nbformat_minor": 5
}
